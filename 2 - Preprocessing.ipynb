{
 "cells": [
  {
   "cell_type": "markdown",
   "metadata": {},
   "source": [
    "# Data preparation"
   ]
  },
  {
   "cell_type": "code",
   "execution_count": 1,
   "metadata": {},
   "outputs": [],
   "source": [
    "import numpy as np\n",
    "import pandas as pd\n",
    "import tensorflow as tf\n",
    "import matplotlib.pyplot as plt\n",
    "from sklearn.svm import SVR\n",
    "from sklearn import preprocessing\n",
    "from sklearn.ensemble import RandomForestClassifier\n",
    "\n",
    "%matplotlib inline\n",
    "plt.style.use('ggplot')"
   ]
  },
  {
   "cell_type": "markdown",
   "metadata": {},
   "source": [
    "#### Loading data"
   ]
  },
  {
   "cell_type": "code",
   "execution_count": 2,
   "metadata": {},
   "outputs": [],
   "source": [
    "data = pd.read_csv('data/dataset-MI+FG_reduced_corrected.csv')\n",
    "# replacing M -> 0 and F -> !\n",
    "data['sex'] = data['sex'].apply(lambda sex: 0 if sex == 'M' else 1)"
   ]
  },
  {
   "cell_type": "markdown",
   "metadata": {},
   "source": [
    "### 1 - Handling Missing Values"
   ]
  },
  {
   "cell_type": "markdown",
   "metadata": {},
   "source": [
    "#### 1.1 - Remove NaNs"
   ]
  },
  {
   "cell_type": "code",
   "execution_count": 3,
   "metadata": {},
   "outputs": [],
   "source": [
    "data_without_nan = data.dropna().reset_index(drop=True)"
   ]
  },
  {
   "cell_type": "markdown",
   "metadata": {},
   "source": [
    "#### 1.2 - Replace NaNs"
   ]
  },
  {
   "cell_type": "code",
   "execution_count": 4,
   "metadata": {},
   "outputs": [],
   "source": [
    "discrete_columns = ['BMI', 'ESS', 'paO2', 'paCO2', 'FVC%', 'FEV1%', 'Tiff']\n",
    "real_columns = [\n",
    "    'Mallampati', 'Tipo di Russamento', 'Frequenza della stanchezza',\n",
    "    'Frequenza dei risvegli', 'Frequenza Apnee', 'Frequenza Addormentamento alla guida'\n",
    "]\n",
    "data_mv_replaced = data.copy()"
   ]
  },
  {
   "cell_type": "code",
   "execution_count": 5,
   "metadata": {},
   "outputs": [],
   "source": [
    "for column in data.columns:\n",
    "    if column in discrete_columns:\n",
    "        data_mv_replaced[column].fillna(data_mv_replaced[column].mode()[0], inplace=True)\n",
    "    if column in real_columns:\n",
    "        data_mv_replaced[column].fillna(data_mv_replaced[column].mean(), inplace=True)  "
   ]
  },
  {
   "cell_type": "markdown",
   "metadata": {},
   "source": [
    "#### 1.3 - Predict NaNs"
   ]
  },
  {
   "cell_type": "code",
   "execution_count": 6,
   "metadata": {},
   "outputs": [],
   "source": [
    "columns_without_mv = ['Severita', 'AHI', 'aa', 'sex', 'SMOKE', 'IPERTENSIONE.', 'CARDIOPATIA', 'DIABETE']\n",
    "columns_to_regress = ['BMI', 'ESS', 'paO2', 'paCO2', 'FVC%', 'FEV1%', 'Tiff']\n",
    "columns_to_predict = [\n",
    "    'Mallampati', 'Tipo di Russamento', 'Frequenza della stanchezza',\n",
    "    'Frequenza dei risvegli', 'Frequenza Apnee', 'Frequenza Addormentamento alla guida'\n",
    "]\n",
    "data_mv_predicted = data.copy()"
   ]
  },
  {
   "cell_type": "code",
   "execution_count": 7,
   "metadata": {},
   "outputs": [
    {
     "name": "stdout",
     "output_type": "stream",
     "text": [
      "CPU times: user 1.11 s, sys: 0 ns, total: 1.11 s\n",
      "Wall time: 1.11 s\n"
     ]
    }
   ],
   "source": [
    "%%time\n",
    "pd.options.mode.chained_assignment = None  # default='warn'\n",
    "\n",
    "for col_to_predict in columns_to_predict:\n",
    "    training_data = data_mv_predicted[columns_without_mv + [col_to_predict]]\n",
    "    training_data = training_data.dropna(subset=[col_to_predict])\n",
    "    \n",
    "    # discretizing real features\n",
    "    for col_to_discretize in ['AHI', 'aa']:\n",
    "        training_data[col_to_discretize] = pd.qcut(training_data[col_to_discretize], 3, labels=[1,2,3])\n",
    "    \n",
    "    Y = training_data[col_to_predict].tolist()\n",
    "    training_data = training_data.drop(col_to_predict, axis=1)\n",
    "    Xs   = [row.tolist() for i, row in training_data.iterrows()]\n",
    "    \n",
    "    classifier = RandomForestClassifier(max_depth=5, n_estimators=10, max_features=1)\n",
    "    classifier.fit(Xs, Y)\n",
    "    \n",
    "    for i, row in data_mv_predicted.iterrows():\n",
    "        if row[col_to_predict] != row[col_to_predict]: # check if it's NaN\n",
    "            prediction = classifier.predict([row[columns_without_mv].tolist()])\n",
    "            data_mv_predicted.set_value(i, col_to_predict, prediction)\n",
    "    "
   ]
  },
  {
   "cell_type": "code",
   "execution_count": 8,
   "metadata": {},
   "outputs": [
    {
     "name": "stdout",
     "output_type": "stream",
     "text": [
      "CPU times: user 628 ms, sys: 0 ns, total: 628 ms\n",
      "Wall time: 627 ms\n"
     ]
    }
   ],
   "source": [
    "%%time\n",
    "\n",
    "for col_to_regress in columns_to_regress:\n",
    "    training_data = data[columns_without_mv + [col_to_regress]]\n",
    "    training_data = training_data.dropna(subset=[col_to_regress])\n",
    "    \n",
    "    Y = training_data[col_to_regress].tolist()\n",
    "    training_data = training_data.drop(col_to_regress, axis=1)\n",
    "    Xs   = [row.tolist() for i, row in training_data.iterrows()]\n",
    "    \n",
    "    regressor = SVR(kernel='rbf', C=1e3, gamma=0.1)\n",
    "    regressor.fit(Xs, Y)\n",
    "    \n",
    "    for i, row in data.iterrows():\n",
    "        if row[col_to_regress] != row[col_to_regress]: # check if it's NaN\n",
    "            prediction = regressor.predict([row[columns_without_mv].tolist()])\n",
    "            data_mv_predicted.set_value(i, col_to_regress, prediction)\n",
    "    "
   ]
  },
  {
   "cell_type": "markdown",
   "metadata": {},
   "source": [
    "### 2 - Normalize\n",
    "Scaling features to have mean 0 and a variance of 1 (Feature wise)"
   ]
  },
  {
   "cell_type": "code",
   "execution_count": 9,
   "metadata": {},
   "outputs": [],
   "source": [
    "normalized = preprocessing.scale(data_without_nan.values, axis=0) # axis 0 means feature wise\n",
    "normalized = preprocessing.normalize(normalized, axis=0) # axis 0 means feature wise\n",
    "\n",
    "data_without_nan_norm = pd.DataFrame(normalized, columns=data_without_nan.columns)\n",
    "data_without_nan_norm['Severita'] = data_without_nan['Severita']\n",
    "data_without_nan_norm['AHI'] = data_without_nan['AHI']\n",
    "\n",
    "\n",
    "\n",
    "normalized = preprocessing.scale(data_mv_predicted.values, axis=0) # axis 0 means feature wise\n",
    "normalized = preprocessing.normalize(normalized, axis=0) # axis 0 means feature wise\n",
    "\n",
    "data_mv_replaced_norm = pd.DataFrame(normalized, columns=data_mv_replaced.columns)\n",
    "data_mv_replaced_norm['Severita'] = data_mv_replaced['Severita']\n",
    "data_mv_replaced_norm['AHI'] = data_mv_replaced['AHI']\n",
    "\n",
    "\n",
    "\n",
    "normalized = preprocessing.scale(data_mv_predicted.values, axis=0) # axis 0 means feature wise\n",
    "normalized = preprocessing.normalize(normalized, axis=0) # axis 0 means feature wise\n",
    "\n",
    "data_mv_predicted_norm = pd.DataFrame(normalized, columns=data_mv_predicted.columns)\n",
    "data_mv_predicted_norm['Severita'] = data_mv_predicted['Severita']\n",
    "data_mv_predicted_norm['AHI'] = data_mv_predicted['AHI']"
   ]
  },
  {
   "cell_type": "markdown",
   "metadata": {},
   "source": [
    "### 3 - Sampling Severita\n",
    "Stratum size = number of elem in the smallest class (which is 1.0)"
   ]
  },
  {
   "cell_type": "markdown",
   "metadata": {},
   "source": [
    "#### 3.1 - Sampling data without NaNs"
   ]
  },
  {
   "cell_type": "code",
   "execution_count": 10,
   "metadata": {},
   "outputs": [],
   "source": [
    "data_without_nan_norm_sampled = pd.DataFrame(columns=data_without_nan_norm.columns)\n",
    "severita_values = data_without_nan_norm['Severita'].unique()\n",
    "stratum_size = len(data_without_nan_norm[data_without_nan_norm['Severita'].apply(lambda sev: sev == 1.0)])\n",
    "\n",
    "for val in severita_values:\n",
    "    data_without_nan_norm_sampled = data_without_nan_norm_sampled.append(\n",
    "        data_without_nan_norm[data_without_nan_norm['Severita'].apply(lambda sev: sev == val)].sample(stratum_size, replace=False))"
   ]
  },
  {
   "cell_type": "markdown",
   "metadata": {},
   "source": [
    "#### 3.2 - Sampling data replaced NaNs"
   ]
  },
  {
   "cell_type": "code",
   "execution_count": 11,
   "metadata": {},
   "outputs": [],
   "source": [
    "data_mv_replaced_norm_sampled = pd.DataFrame(columns=data_mv_replaced_norm.columns)\n",
    "severita_values = data_mv_replaced_norm['Severita'].unique()\n",
    "stratum_size = len(data_mv_replaced_norm[data_mv_replaced_norm['Severita'].apply(lambda sev: sev == 1.0)])\n",
    "\n",
    "for val in severita_values:\n",
    "    data_mv_replaced_norm_sampled = data_mv_replaced_norm_sampled.append(\n",
    "        data_mv_replaced_norm[data_mv_replaced_norm['Severita'].apply(lambda sev: sev == val)].sample(stratum_size, replace=False))"
   ]
  },
  {
   "cell_type": "markdown",
   "metadata": {},
   "source": [
    "#### 3.3 - Sampling data predicted NaNs"
   ]
  },
  {
   "cell_type": "code",
   "execution_count": 12,
   "metadata": {},
   "outputs": [],
   "source": [
    "data_mv_predicted_norm_sampled = pd.DataFrame(columns=data_mv_predicted_norm.columns)\n",
    "severita_values = data_mv_predicted_norm['Severita'].unique()\n",
    "stratum_size = len(data_mv_predicted_norm[data_mv_predicted_norm['Severita'].apply(lambda sev: sev == 1.0)])\n",
    "\n",
    "for val in severita_values:\n",
    "    data_mv_predicted_norm_sampled = data_mv_predicted_norm_sampled.append(\n",
    "        data_mv_predicted_norm[data_mv_predicted_norm['Severita'].apply(lambda sev: sev == val)].sample(stratum_size, replace=False))"
   ]
  },
  {
   "cell_type": "markdown",
   "metadata": {},
   "source": [
    "###### Printing to file"
   ]
  },
  {
   "cell_type": "code",
   "execution_count": 13,
   "metadata": {},
   "outputs": [],
   "source": [
    "!mkdir -p data/preprocessed"
   ]
  },
  {
   "cell_type": "code",
   "execution_count": 14,
   "metadata": {},
   "outputs": [],
   "source": [
    "data_without_nan.to_csv('data/preprocessed/data_without_nan.csv', index=False, sep=',')\n",
    "data_mv_replaced.to_csv('data/preprocessed/data_mv_replaced.csv', index=False, sep=',')\n",
    "data_mv_predicted.to_csv('data/preprocessed/data_mv_predicted.csv', index=False, sep=',')\n",
    "\n",
    "# normalized \n",
    "data_without_nan_norm.to_csv('data/preprocessed/data_without_nan_norm.csv', index=False, sep=',')\n",
    "data_mv_replaced_norm.to_csv('data/preprocessed/data_mv_replaced_norm.csv', index=False, sep=',')\n",
    "data_mv_predicted_norm.to_csv('data/preprocessed/data_mv_predicted_norm.csv', index=False, sep=',')\n",
    "\n",
    "# normalized and sampled\n",
    "data_without_nan_norm_sampled.to_csv('data/preprocessed/data_without_nan_norm_sampled.csv', index=False, sep=',')\n",
    "data_mv_replaced_norm_sampled.to_csv('data/preprocessed/data_mv_replaced_norm_sampled.csv', index=False, sep=',')\n",
    "data_mv_predicted_norm_sampled.to_csv('data/preprocessed/data_mv_predicted_norm_sampled.csv', index=False, sep=',')"
   ]
  }
 ],
 "metadata": {
  "kernelspec": {
   "display_name": "Python 3",
   "language": "python",
   "name": "python3"
  },
  "language_info": {
   "codemirror_mode": {
    "name": "ipython",
    "version": 3
   },
   "file_extension": ".py",
   "mimetype": "text/x-python",
   "name": "python",
   "nbconvert_exporter": "python",
   "pygments_lexer": "ipython3",
   "version": "3.5.4"
  }
 },
 "nbformat": 4,
 "nbformat_minor": 2
}
